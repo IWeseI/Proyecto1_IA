{
  "cells": [
    {
      "cell_type": "markdown",
      "source": [
        " # Práctica Guiada.\n",
        " ----\n",
        "  \n",
        "  Universidad : UTEC \\\\\n",
        "  Curso       : Inteligencia Artificial \\\\\n",
        "  Profesor    : Cristian López Del Alamo \\\\\n",
        "  Tema        : Regresión Lineal \\\\\n",
        "  \n",
        " \n",
        " ----\n"
      ],
      "metadata": {
        "id": "XrmVSlAAcKh7"
      }
    },
    {
      "cell_type": "markdown",
      "metadata": {
        "id": "a_DEtwUxFsLp"
      },
      "source": [
        "Crear el DataSet\n",
        "\n",
        "\n",
        "\n",
        "\n",
        "\n"
      ]
    },
    {
      "cell_type": "code",
      "source": [
        "from google.colab import drive\n",
        "drive.mount('/content/drive')"
      ],
      "metadata": {
        "id": "Bvw0qxm2BSOx",
        "colab": {
          "base_uri": "https://localhost:8080/"
        },
        "outputId": "ddc27e77-17ce-49e2-f37d-a4b41cd9af96"
      },
      "execution_count": 2,
      "outputs": [
        {
          "output_type": "stream",
          "name": "stdout",
          "text": [
            "Mounted at /content/drive\n"
          ]
        }
      ]
    },
    {
      "cell_type": "code",
      "execution_count": 3,
      "metadata": {
        "id": "RgZIGVKlFuvn",
        "colab": {
          "base_uri": "https://localhost:8080/",
          "height": 404
        },
        "outputId": "53e0bf38-7f95-4548-e4ac-bf84e60c1f06"
      },
      "outputs": [
        {
          "output_type": "execute_result",
          "data": {
            "text/plain": [
              "[<matplotlib.lines.Line2D at 0x7fe7924a6d10>,\n",
              " <matplotlib.lines.Line2D at 0x7fe7924a6f90>,\n",
              " <matplotlib.lines.Line2D at 0x7fe7924a6ed0>,\n",
              " <matplotlib.lines.Line2D at 0x7fe7924363d0>,\n",
              " <matplotlib.lines.Line2D at 0x7fe792436590>,\n",
              " <matplotlib.lines.Line2D at 0x7fe792436510>,\n",
              " <matplotlib.lines.Line2D at 0x7fe792436990>,\n",
              " <matplotlib.lines.Line2D at 0x7fe792436b50>]"
            ]
          },
          "metadata": {},
          "execution_count": 3
        },
        {
          "output_type": "display_data",
          "data": {
            "text/plain": [
              "<Figure size 432x288 with 1 Axes>"
            ],
            "image/png": "[encoded data removed]"
          },
          "metadata": {
            "needs_background": "light"
          }
        }
      ],
      "source": [
        "import numpy as np\n",
        "import matplotlib.pyplot as plt\n",
        "import pandas as pd\n",
        "\n",
        "dataset = pd.read_csv('/content/drive/MyDrive/ColabNotebooks/forestfires.csv')\n",
        "in_var = ['FFMC','DMC','DC','ISI','temp','RH','wind','rain']\n",
        "x = (dataset[in_var]).to_numpy()\n",
        "y = (dataset[['area']]).to_numpy()\n",
        "\n",
        "plt.plot(x,y,'.')\n"
      ]
    },
    {
      "cell_type": "code",
      "source": [
        "import numpy as np\n",
        "import matplotlib.pyplot as plt\n",
        "import pandas as pd\n",
        "\n",
        "# TODO: Change to drive path or upload to session\n",
        "dataset = pd.read_csv('/content/drive/MyDrive/ColabNotebooks/forestfires.csv')\n",
        "\n",
        "# Used variables\n",
        "in_var = ['FFMC','DMC','DC','ISI','temp','RH','wind','rain']\n",
        "out_var = ['area']\n",
        "\n",
        "# Divide data randomly - 70% / 15% / 15%\n",
        "training_data, validation_data, test_data = np.split(\n",
        "      dataset.sample(frac=1, random_state=42),\n",
        "      [int(0.7 * len(dataset)), int(0.85 * len(dataset))]\n",
        "    )\n",
        "\n",
        "x_training = training_data[in_var].to_numpy()\n",
        "y_training = training_data[out_var].to_numpy()\n",
        "\n",
        "x_validation = validation_data[in_var].to_numpy()\n",
        "y_validation = validation_data[out_var].to_numpy()\n",
        "\n",
        "x_test = test_data[in_var].to_numpy()\n",
        "y_test = test_data[out_var].to_numpy()\n",
        "\n",
        "plt.plot(x_validation, y_validation, '.')"
      ],
      "metadata": {
        "colab": {
          "base_uri": "https://localhost:8080/",
          "height": 404
        },
        "id": "E5lRFe2MGscp",
        "outputId": "8f6306d8-5fbe-46e0-d309-08a1a498e53a"
      },
      "execution_count": 4,
      "outputs": [
        {
          "output_type": "execute_result",
          "data": {
            "text/plain": [
              "[<matplotlib.lines.Line2D at 0x7fe791f2df90>,\n",
              " <matplotlib.lines.Line2D at 0x7fe791f3b250>,\n",
              " <matplotlib.lines.Line2D at 0x7fe791f3b410>,\n",
              " <matplotlib.lines.Line2D at 0x7fe791f3b5d0>,\n",
              " <matplotlib.lines.Line2D at 0x7fe791f3b790>,\n",
              " <matplotlib.lines.Line2D at 0x7fe791f3b710>,\n",
              " <matplotlib.lines.Line2D at 0x7fe791f3bb90>,\n",
              " <matplotlib.lines.Line2D at 0x7fe791f3bd50>]"
            ]
          },
          "metadata": {},
          "execution_count": 4
        },
        {
          "output_type": "display_data",
          "data": {
            "text/plain": [
              "<Figure size 432x288 with 1 Axes>"
            ],
            "image/png": "[encoded data removed]"
          },
          "metadata": {
            "needs_background": "light"
          }
        }
      ]
    },
    {
      "cell_type": "markdown",
      "metadata": {
        "id": "DRbGcXmWIaKO"
      },
      "source": [
        "# Modelo \n",
        "$h(x_i) = x_i*w + b$"
      ]
    },
    {
      "cell_type": "code",
      "execution_count": 5,
      "metadata": {
        "id": "2NnYyf2oG1Fw"
      },
      "outputs": [],
      "source": [
        "\n",
        "def h(x, w, b):\n",
        "  sum = 0\n",
        "  for i in range(len(w)):\n",
        "    sum += x[i] * w[i]\n",
        "  return sum + b\n"
      ]
    },
    {
      "cell_type": "markdown",
      "metadata": {
        "id": "MHWVdGjbIUna"
      },
      "source": [
        "# Loss function\n",
        "$\\mathcal{L} = \\frac{1}{2n}\\sum_{i=0}^n (y_i - h(x_i))^2$ "
      ]
    },
    {
      "cell_type": "code",
      "execution_count": 6,
      "metadata": {
        "id": "2FiEbigVG9Hf"
      },
      "outputs": [],
      "source": [
        "def Error_MSE(x, y, w, b):\n",
        "  e =  0.0\n",
        "  for i in range(len(x)):\n",
        "    e += (y[i][0] - h(x[i], w, b)) ** 2\n",
        "  return e / (2 * len(x))"
      ]
    },
    {
      "cell_type": "code",
      "source": [
        "def Error_MAE(x, y, w, b):\n",
        "  e =  0.0\n",
        "  for i in range(len(x)):\n",
        "    e += np.abs((y[i][0] - h(x[i], w, b)))\n",
        "  return e / (len(x))"
      ],
      "metadata": {
        "id": "5OCe8zuGTg3q"
      },
      "execution_count": 7,
      "outputs": []
    },
    {
      "cell_type": "markdown",
      "metadata": {
        "id": "jV-_CQ87FrdQ"
      },
      "source": [
        "# Cálculo de derivadas\n",
        "$db = \\frac{1}{m}\\sum_{i=0}^m(y_i - h(x_i))(-1)$\n",
        "\n",
        "$dw = \\frac{1}{m}\\sum_{i=0}^m(y_i - h(x_i))(-x_i)$ "
      ]
    },
    {
      "cell_type": "code",
      "execution_count": 8,
      "metadata": {
        "id": "0RxT6ee6H8Vn"
      },
      "outputs": [],
      "source": [
        "\n",
        "def derivada_MSE(x, y, w, b):\n",
        "  dws = []\n",
        "  for j in range(len(w)):\n",
        "    dw = 0\n",
        "    for i in range(len(x)):\n",
        "      dw += (y[i] - h(x[i], w, b))*-x[i][j]\n",
        "    dw = dw/len(x)\n",
        "    dws.append(dw) \n",
        "  db = 0\n",
        "  for i in range(len(x)):\n",
        "    db += (y[i] - h(x[i], w, b))*-1\n",
        "  db = db/len(x)\n",
        "  return [db, dws]"
      ]
    },
    {
      "cell_type": "code",
      "source": [
        "def derivada_MAE(x, y, w, b):\n",
        "  dws = []\n",
        "  for j in range(len(w)):\n",
        "    dw = 0\n",
        "    for i in range(len(x)):\n",
        "      dw += -x[i][j]\n",
        "    dw = dw/len(x)\n",
        "    dws.append(dw)\n",
        "  db = 0\n",
        "  for i in range(len(x)):\n",
        "    db += -1\n",
        "  db = db/len(x)\n",
        "  return [db, dws]"
      ],
      "metadata": {
        "id": "21JrAkpSUI0L"
      },
      "execution_count": 9,
      "outputs": []
    },
    {
      "cell_type": "markdown",
      "metadata": {
        "id": "5CRCXMYd6PrX"
      },
      "source": [
        "# Actualización de parámetros \n",
        "\n",
        "$h(x_i) = b + x_i*w $ \n",
        "\n",
        "$w  = w - \\alpha*\\frac{\\partial L}{\\partial w} $\n",
        "\n",
        "$b  = b - \\alpha*\\frac{\\partial L}{\\partial b} $\n"
      ]
    },
    {
      "cell_type": "code",
      "execution_count": 10,
      "metadata": {
        "id": "yv06Mc7NJJx6"
      },
      "outputs": [],
      "source": [
        "def update(w, b, alfa, db, dw):\n",
        "  for i in range(len(w)):\n",
        "    w[i] = w[i] - alfa*dw[i]\n",
        "  b = b - alfa*db\n",
        "  return b, w"
      ]
    },
    {
      "cell_type": "markdown",
      "source": [
        "# Training"
      ],
      "metadata": {
        "id": "Z7Z5XhYtXYm-"
      }
    },
    {
      "cell_type": "code",
      "execution_count": 41,
      "metadata": {
        "id": "HSuPO-XiIjem"
      },
      "outputs": [],
      "source": [
        "def train(x, y, alfa, epochs):\n",
        "    np.random.seed(2001)\n",
        "    w = np.random.rand(8)\n",
        "    b = np.random.rand(1)[0]\n",
        "    L = Error_MAE(x, y, w, b)\n",
        "    loss = []\n",
        "    for i in range(epochs):\n",
        "      db, dw = derivada_MSE(x, y, w, b)\n",
        "      b, w = update(w, b, alfa, db, dw)\n",
        "      L = Error_MAE(x, y, w, b)\n",
        "      #print(w,b,L)\n",
        "      loss.append(L)\n",
        "    return b, w, loss\n",
        "\n",
        "\n",
        "def Plot_Loss(epochs,loss):\n",
        "   plt.plot(epochs, loss)\n"
      ]
    },
    {
      "cell_type": "markdown",
      "source": [
        "# Testing"
      ],
      "metadata": {
        "id": "nis8QDOFXep7"
      }
    },
    {
      "cell_type": "code",
      "execution_count": 42,
      "metadata": {
        "id": "hO7oadbnJoRv"
      },
      "outputs": [],
      "source": [
        "def test(x,y,w,b):\n",
        "  e = Error_MAE(x,y,w,b)\n",
        "  print(e)\n",
        "\n",
        "def test_validation(x, y, w, b):\n",
        "  e = Error_MAE(x,y,w,b)\n",
        "  print(e)\n",
        "\n",
        "def normalize_x(x):\n",
        "  return (x - x.min(axis=0) / (x.max(axis=0) - x.min(axis=0)))"
      ]
    },
    {
      "cell_type": "code",
      "execution_count": null,
      "metadata": {
        "id": "c9T4hkAK6TIW",
        "colab": {
          "base_uri": "https://localhost:8080/"
        },
        "outputId": "3bfe83e9-fc6a-41b6-bc26-1168a2cb8b9e"
      },
      "outputs": [
        {
          "output_type": "stream",
          "name": "stdout",
          "text": [
            "Error promedio para alpha de valor: 5e-06\n",
            "[24.43327531]\n",
            "Error promedio para alpha de valor: 5e-06\n",
            "[13.67161125]\n",
            "Error promedio para alpha de valor: 1e-06\n",
            "[25.04894513]\n",
            "Error promedio para alpha de valor: 1e-06\n",
            "[14.01028843]\n"
          ]
        }
      ],
      "source": [
        "#x = normalize_x(x_training)\n",
        "y = y_training\n",
        "x = x_training\n",
        "\n",
        "for i in [0.000005,0.000001,0.0000005,0.0000001,0.00000005]:\n",
        "  b, w, loss = train(x, y, i, 1000)\n",
        "  print(\"Error promedio para alpha de valor: \" + str(i))\n",
        "  test_validation(x_validation, y_validation, w, b)\n",
        "  print(\"Error promedio para alpha de valor: \" + str(i))\n",
        "  test(x_test, y_test, w, b)\n",
        "\n"
      ]
    }
  ],
  "metadata": {
    "colab": {
      "collapsed_sections": [],
      "provenance": []
    },
    "kernelspec": {
      "display_name": "Python 3",
      "name": "python3"
    },
    "language_info": {
      "name": "python"
    }
  },
  "nbformat": 4,
  "nbformat_minor": 0
}