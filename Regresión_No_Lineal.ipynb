{
  "nbformat": 4,
  "nbformat_minor": 0,
  "metadata": {
    "colab": {
      "provenance": [],
      "collapsed_sections": []
    },
    "kernelspec": {
      "name": "python3",
      "display_name": "Python 3"
    },
    "language_info": {
      "name": "python"
    }
  },
  "cells": [
    {
      "cell_type": "markdown",
      "metadata": {
        "id": "a_DEtwUxFsLp"
      },
      "source": [
        "Crear el DataSet\n",
        "\n",
        "\n",
        "\n",
        "\n",
        "\n"
      ]
    },
    {
      "cell_type": "code",
      "source": [
        "from google.colab import drive\n",
        "drive.mount('/content/drive')"
      ],
      "metadata": {
        "colab": {
          "base_uri": "https://localhost:8080/"
        },
        "id": "7nalS3_14SSB",
        "outputId": "1e6b8a9c-da2d-4a6d-a3be-26b3e7c274fd"
      },
      "execution_count": 2,
      "outputs": [
        {
          "output_type": "stream",
          "name": "stdout",
          "text": [
            "Mounted at /content/drive\n"
          ]
        }
      ]
    },
    {
      "cell_type": "code",
      "source": [
        "import numpy as np\n",
        "import matplotlib.pyplot as plt\n",
        "import pandas as pd\n",
        "\n",
        "# TODO: Change to drive path or upload to session\n",
        "dataset = pd.read_csv('/content/drive/MyDrive/ColabNotebooks/forestfires.csv')\n",
        "\n",
        "# Used variables\n",
        "in_var = ['FFMC','DMC','DC','ISI','temp','RH','wind','rain']\n",
        "out_var = ['area']\n",
        "\n",
        "# Divide data randomly - 70% / 15% / 15%\n",
        "training_data, validation_data, test_data = np.split(\n",
        "      dataset.sample(frac=1, random_state=42),\n",
        "      [int(0.7 * len(dataset)), int(0.85 * len(dataset))]\n",
        "    )\n",
        "\n",
        "x_training = training_data[in_var].to_numpy()\n",
        "y_training = training_data[out_var].to_numpy()\n",
        "\n",
        "x_validation = validation_data[in_var].to_numpy()\n",
        "y_validation = validation_data[out_var].to_numpy()\n",
        "\n",
        "x_test = test_data[in_var].to_numpy()\n",
        "y_test = test_data[out_var].to_numpy()\n",
        "\n",
        "plt.plot(x_test, y_test, '*')"
      ],
      "metadata": {
        "colab": {
          "base_uri": "https://localhost:8080/",
          "height": 404
        },
        "id": "yTx4vjiM6tXN",
        "outputId": "1405a7c1-38db-4ac8-f9e2-beb7dcce3a5c"
      },
      "execution_count": 3,
      "outputs": [
        {
          "output_type": "execute_result",
          "data": {
            "text/plain": [
              "[<matplotlib.lines.Line2D at 0x7fe335180750>,\n",
              " <matplotlib.lines.Line2D at 0x7fe335180a10>,\n",
              " <matplotlib.lines.Line2D at 0x7fe335180bd0>,\n",
              " <matplotlib.lines.Line2D at 0x7fe335180d90>,\n",
              " <matplotlib.lines.Line2D at 0x7fe335180f50>,\n",
              " <matplotlib.lines.Line2D at 0x7fe33518e190>,\n",
              " <matplotlib.lines.Line2D at 0x7fe33518e390>,\n",
              " <matplotlib.lines.Line2D at 0x7fe33518e550>]"
            ]
          },
          "metadata": {},
          "execution_count": 3
        },
        {
          "output_type": "display_data",
          "data": {
            "text/plain": [
              "<Figure size 432x288 with 1 Axes>"
            ],
            "image/png": "[encoded data removed]"
          },
          "metadata": {
            "needs_background": "light"
          }
        }
      ]
    },
    {
      "cell_type": "markdown",
      "metadata": {
        "id": "DRbGcXmWIaKO"
      },
      "source": [
        "# Modelo \n",
        "\n"
      ]
    },
    {
      "cell_type": "code",
      "metadata": {
        "id": "2NnYyf2oG1Fw"
      },
      "source": [
        "def h(x_i,w):\n",
        "  return np.dot(x_i, w.transpose())"
      ],
      "execution_count": 4,
      "outputs": []
    },
    {
      "cell_type": "markdown",
      "source": [
        "# Loss function \n"
      ],
      "metadata": {
        "id": "gBnZof3z00s0"
      }
    },
    {
      "cell_type": "code",
      "metadata": {
        "id": "2FiEbigVG9Hf"
      },
      "source": [
        "def Error_MSE(x,y,w):\n",
        "  return sum([(y[i]-h(x[i], w))**2/(2.0*len(x)) for i in range(len(x))])"
      ],
      "execution_count": 5,
      "outputs": []
    },
    {
      "cell_type": "code",
      "source": [
        "def Error_MAE(x,y,w):\n",
        "  return sum([np.abs((y[i]-h(x[i], w)))/(2.0*len(x)) for i in range(len(x))])"
      ],
      "metadata": {
        "id": "r2IJEYy9_-nF"
      },
      "execution_count": 47,
      "outputs": []
    },
    {
      "cell_type": "markdown",
      "metadata": {
        "id": "jV-_CQ87FrdQ"
      },
      "source": [
        "# Cálculo de derivadas\n",
        " "
      ]
    },
    {
      "cell_type": "code",
      "metadata": {
        "id": "0RxT6ee6H8Vn"
      },
      "source": [
        "def derivadas_MSE(x,y,w):\n",
        "  derivadas = []\n",
        "  for j in range(len(w)):\n",
        "    dw_j = sum([((y[i] - h(x[i],w))*(-1*(x[i][j]**j)))/(len(x)) for i in range(len(x))])\n",
        "    derivadas.append(dw_j)\n",
        "  return derivadas"
      ],
      "execution_count": 37,
      "outputs": []
    },
    {
      "cell_type": "code",
      "source": [
        "def derivadas_MAE(x,y,w):\n",
        "  derivadas = []\n",
        "  for j in range(len(w)):\n",
        "    dw_j = sum([((-1*(x[i][j]**j)))/(len(x)) for i in range(len(x))])\n",
        "    derivadas.append(dw_j)\n",
        "  return derivadas"
      ],
      "metadata": {
        "id": "SoexiM5lACkN"
      },
      "execution_count": 38,
      "outputs": []
    },
    {
      "cell_type": "markdown",
      "source": [
        "# Actualización de parámetros \n"
      ],
      "metadata": {
        "id": "WBOKHvb9zFXD"
      }
    },
    {
      "cell_type": "code",
      "source": [
        "def update(w,alpha,dw):\n",
        "  for j in range(len(w)):\n",
        "    w[j] = w[j] - alpha*dw[j]\n",
        "  return w"
      ],
      "metadata": {
        "id": "atW5fLJazEYu"
      },
      "execution_count": 9,
      "outputs": []
    },
    {
      "cell_type": "markdown",
      "source": [
        "# Training"
      ],
      "metadata": {
        "id": "ovyavtjMzPc4"
      }
    },
    {
      "cell_type": "code",
      "metadata": {
        "id": "HSuPO-XiIjem"
      },
      "source": [
        "def train(x, y, alfa, grado, epoch):\n",
        "  w = np.array([np.random.rand() for i in range(grado+1)])\n",
        "  LE = []\n",
        "  LV = []\n",
        "  for i in range(epoch):\n",
        "    dw = derivadas_MAE(x,y,w)\n",
        "    w = update(w,alfa,dw)\n",
        "    Le = Error_MAE(x_training,y_training,w)\n",
        "    LE.append(Le)\n",
        "    Lv = Error_MAE(x_validation,y_validation,w)\n",
        "    LV.append(Lv)\n",
        "  return LE,LV,w\n",
        "\n",
        "def Plot_Loss(loss_e,loss_v,epoch):\n",
        "   #plt.plot(epochs, loss_e,loss_v)\n",
        "   plt.plot(loss_e, \"purple\")\n",
        "   plt.plot(loss_v, \"orange\")\n",
        "   plt.legend([\"Training\", \"Testing\"])\n",
        "\n"
      ],
      "execution_count": 44,
      "outputs": []
    },
    {
      "cell_type": "markdown",
      "source": [
        "# Testing"
      ],
      "metadata": {
        "id": "e0Uze2r4zVFw"
      }
    },
    {
      "cell_type": "code",
      "metadata": {
        "id": "hO7oadbnJoRv"
      },
      "source": [
        "def test(x,y,w):\n",
        "  e = Error_MAE(x,y,w)\n",
        "  print(e)\n",
        "\n",
        "def test_validation(x, y, w):\n",
        "  e = Error_MAE(x,y,w)\n",
        "  print(e)"
      ],
      "execution_count": 45,
      "outputs": []
    },
    {
      "cell_type": "code",
      "source": [
        "epoch = 1000\n",
        "\n",
        "grader = 7\n",
        "\n",
        "for i in [0.00000000000000001,0.000000000000000001,0.0000000000000000001,0.00000000000000000001]:\n",
        "  err_training, err_validacion, w = train(x_training, y_training, i, grader, epoch)\n",
        "  print(\"Error promedio para alpha de valor: \" + str(i))\n",
        "  test_validation(x_validation, y_validation, w)\n",
        "  print(\"Error promedio para alpha de valor: \" + str(i))\n",
        "  test(x_test, y_test, w)"
      ],
      "metadata": {
        "id": "c9T4hkAK6TIW"
      },
      "execution_count": null,
      "outputs": []
    }
  ]
}